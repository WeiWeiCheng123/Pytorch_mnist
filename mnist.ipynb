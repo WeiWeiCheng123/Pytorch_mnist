{
 "cells": [
  {
   "cell_type": "code",
   "execution_count": 68,
   "source": [
    "import torch\r\n",
    "import torch.nn as nn\r\n",
    "from torch.autograd import Variable\r\n",
    "import torch.utils.data as Data\r\n",
    "import torchvision\r\n",
    "import matplotlib.pyplot as plt"
   ],
   "outputs": [],
   "metadata": {}
  },
  {
   "cell_type": "code",
   "execution_count": 69,
   "source": [
    "train_data = torchvision.datasets.MNIST(\r\n",
    "    root='./mnist',\r\n",
    "    train=True,\r\n",
    "    transform=torchvision.transforms.ToTensor(),\r\n",
    "    download=False\r\n",
    ")\r\n",
    "test_data = torchvision.datasets.MNIST(\r\n",
    "    root='./mnist',\r\n",
    "    train=False,\r\n",
    "    transform=torchvision.transforms.ToTensor(),\r\n",
    "    download=False\r\n",
    ")\r\n",
    "print(train_data)"
   ],
   "outputs": [
    {
     "output_type": "stream",
     "name": "stdout",
     "text": [
      "Dataset MNIST\n",
      "    Number of datapoints: 60000\n",
      "    Root location: ./mnist\n",
      "    Split: Train\n",
      "    StandardTransform\n",
      "Transform: ToTensor()\n"
     ]
    }
   ],
   "metadata": {}
  },
  {
   "cell_type": "code",
   "execution_count": 70,
   "source": [
    "plt.imshow(train_data.train_data[0].numpy(),cmap='gray')\r\n",
    "plt.show()\r\n",
    "\r\n",
    "#show first image"
   ],
   "outputs": [
    {
     "output_type": "stream",
     "name": "stderr",
     "text": [
      "C:\\Users\\Wei\\AppData\\Local\\Programs\\Python\\Python39\\lib\\site-packages\\torchvision\\datasets\\mnist.py:62: UserWarning: train_data has been renamed data\n",
      "  warnings.warn(\"train_data has been renamed data\")\n"
     ]
    },
    {
     "output_type": "display_data",
     "data": {
      "text/plain": [
       "<Figure size 432x288 with 1 Axes>"
      ],
      "image/svg+xml": "<?xml version=\"1.0\" encoding=\"utf-8\" standalone=\"no\"?>\r\n<!DOCTYPE svg PUBLIC \"-//W3C//DTD SVG 1.1//EN\"\r\n  \"http://www.w3.org/Graphics/SVG/1.1/DTD/svg11.dtd\">\r\n<svg height=\"248.518125pt\" version=\"1.1\" viewBox=\"0 0 251.565 248.518125\" width=\"251.565pt\" xmlns=\"http://www.w3.org/2000/svg\" xmlns:xlink=\"http://www.w3.org/1999/xlink\">\r\n <metadata>\r\n  <rdf:RDF xmlns:cc=\"http://creativecommons.org/ns#\" xmlns:dc=\"http://purl.org/dc/elements/1.1/\" xmlns:rdf=\"http://www.w3.org/1999/02/22-rdf-syntax-ns#\">\r\n   <cc:Work>\r\n    <dc:type rdf:resource=\"http://purl.org/dc/dcmitype/StillImage\"/>\r\n    <dc:date>2021-09-01T22:32:30.298381</dc:date>\r\n    <dc:format>image/svg+xml</dc:format>\r\n    <dc:creator>\r\n     <cc:Agent>\r\n      <dc:title>Matplotlib v3.4.2, https://matplotlib.org/</dc:title>\r\n     </cc:Agent>\r\n    </dc:creator>\r\n   </cc:Work>\r\n  </rdf:RDF>\r\n </metadata>\r\n <defs>\r\n  <style type=\"text/css\">*{stroke-linecap:butt;stroke-linejoin:round;}</style>\r\n </defs>\r\n <g id=\"figure_1\">\r\n  <g id=\"patch_1\">\r\n   <path d=\"M 0 248.518125 \r\nL 251.565 248.518125 \r\nL 251.565 0 \r\nL 0 0 \r\nz\r\n\" style=\"fill:none;\"/>\r\n  </g>\r\n  <g id=\"axes_1\">\r\n   <g id=\"patch_2\">\r\n    <path d=\"M 26.925 224.64 \r\nL 244.365 224.64 \r\nL 244.365 7.2 \r\nL 26.925 7.2 \r\nz\r\n\" style=\"fill:#ffffff;\"/>\r\n   </g>\r\n   <g clip-path=\"url(#p4b4594d1ff)\">\r\n    <image height=\"218\" id=\"imagea500afb953\" transform=\"scale(1 -1)translate(0 -218)\" width=\"218\" x=\"26.925\" xlink:href=\"data:image/png;base64,\r\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\" y=\"-6.64\"/>\r\n   </g>\r\n   <g id=\"matplotlib.axis_1\">\r\n    <g id=\"xtick_1\">\r\n     <g id=\"line2d_1\">\r\n      <defs>\r\n       <path d=\"M 0 0 \r\nL 0 3.5 \r\n\" id=\"ma58cd9469a\" style=\"stroke:#000000;stroke-width:0.8;\"/>\r\n      </defs>\r\n      <g>\r\n       <use style=\"stroke:#000000;stroke-width:0.8;\" x=\"30.807857\" xlink:href=\"#ma58cd9469a\" y=\"224.64\"/>\r\n      </g>\r\n     </g>\r\n     <g id=\"text_1\">\r\n      <!-- 0 -->\r\n      <g transform=\"translate(27.626607 239.238437)scale(0.1 -0.1)\">\r\n       <defs>\r\n        <path d=\"M 2034 4250 \r\nQ 1547 4250 1301 3770 \r\nQ 1056 3291 1056 2328 \r\nQ 1056 1369 1301 889 \r\nQ 1547 409 2034 409 \r\nQ 2525 409 2770 889 \r\nQ 3016 1369 3016 2328 \r\nQ 3016 3291 2770 3770 \r\nQ 2525 4250 2034 4250 \r\nz\r\nM 2034 4750 \r\nQ 2819 4750 3233 4129 \r\nQ 3647 3509 3647 2328 \r\nQ 3647 1150 3233 529 \r\nQ 2819 -91 2034 -91 \r\nQ 1250 -91 836 529 \r\nQ 422 1150 422 2328 \r\nQ 422 3509 836 4129 \r\nQ 1250 4750 2034 4750 \r\nz\r\n\" id=\"DejaVuSans-30\" transform=\"scale(0.015625)\"/>\r\n       </defs>\r\n       <use xlink:href=\"#DejaVuSans-30\"/>\r\n      </g>\r\n     </g>\r\n    </g>\r\n    <g id=\"xtick_2\">\r\n     <g id=\"line2d_2\">\r\n      <g>\r\n       <use style=\"stroke:#000000;stroke-width:0.8;\" x=\"69.636429\" xlink:href=\"#ma58cd9469a\" y=\"224.64\"/>\r\n      </g>\r\n     </g>\r\n     <g id=\"text_2\">\r\n      <!-- 5 -->\r\n      <g transform=\"translate(66.455179 239.238437)scale(0.1 -0.1)\">\r\n       <defs>\r\n        <path d=\"M 691 4666 \r\nL 3169 4666 \r\nL 3169 4134 \r\nL 1269 4134 \r\nL 1269 2991 \r\nQ 1406 3038 1543 3061 \r\nQ 1681 3084 1819 3084 \r\nQ 2600 3084 3056 2656 \r\nQ 3513 2228 3513 1497 \r\nQ 3513 744 3044 326 \r\nQ 2575 -91 1722 -91 \r\nQ 1428 -91 1123 -41 \r\nQ 819 9 494 109 \r\nL 494 744 \r\nQ 775 591 1075 516 \r\nQ 1375 441 1709 441 \r\nQ 2250 441 2565 725 \r\nQ 2881 1009 2881 1497 \r\nQ 2881 1984 2565 2268 \r\nQ 2250 2553 1709 2553 \r\nQ 1456 2553 1204 2497 \r\nQ 953 2441 691 2322 \r\nL 691 4666 \r\nz\r\n\" id=\"DejaVuSans-35\" transform=\"scale(0.015625)\"/>\r\n       </defs>\r\n       <use xlink:href=\"#DejaVuSans-35\"/>\r\n      </g>\r\n     </g>\r\n    </g>\r\n    <g id=\"xtick_3\">\r\n     <g id=\"line2d_3\">\r\n      <g>\r\n       <use style=\"stroke:#000000;stroke-width:0.8;\" x=\"108.465\" xlink:href=\"#ma58cd9469a\" y=\"224.64\"/>\r\n      </g>\r\n     </g>\r\n     <g id=\"text_3\">\r\n      <!-- 10 -->\r\n      <g transform=\"translate(102.1025 239.238437)scale(0.1 -0.1)\">\r\n       <defs>\r\n        <path d=\"M 794 531 \r\nL 1825 531 \r\nL 1825 4091 \r\nL 703 3866 \r\nL 703 4441 \r\nL 1819 4666 \r\nL 2450 4666 \r\nL 2450 531 \r\nL 3481 531 \r\nL 3481 0 \r\nL 794 0 \r\nL 794 531 \r\nz\r\n\" id=\"DejaVuSans-31\" transform=\"scale(0.015625)\"/>\r\n       </defs>\r\n       <use xlink:href=\"#DejaVuSans-31\"/>\r\n       <use x=\"63.623047\" xlink:href=\"#DejaVuSans-30\"/>\r\n      </g>\r\n     </g>\r\n    </g>\r\n    <g id=\"xtick_4\">\r\n     <g id=\"line2d_4\">\r\n      <g>\r\n       <use style=\"stroke:#000000;stroke-width:0.8;\" x=\"147.293571\" xlink:href=\"#ma58cd9469a\" y=\"224.64\"/>\r\n      </g>\r\n     </g>\r\n     <g id=\"text_4\">\r\n      <!-- 15 -->\r\n      <g transform=\"translate(140.931071 239.238437)scale(0.1 -0.1)\">\r\n       <use xlink:href=\"#DejaVuSans-31\"/>\r\n       <use x=\"63.623047\" xlink:href=\"#DejaVuSans-35\"/>\r\n      </g>\r\n     </g>\r\n    </g>\r\n    <g id=\"xtick_5\">\r\n     <g id=\"line2d_5\">\r\n      <g>\r\n       <use style=\"stroke:#000000;stroke-width:0.8;\" x=\"186.122143\" xlink:href=\"#ma58cd9469a\" y=\"224.64\"/>\r\n      </g>\r\n     </g>\r\n     <g id=\"text_5\">\r\n      <!-- 20 -->\r\n      <g transform=\"translate(179.759643 239.238437)scale(0.1 -0.1)\">\r\n       <defs>\r\n        <path d=\"M 1228 531 \r\nL 3431 531 \r\nL 3431 0 \r\nL 469 0 \r\nL 469 531 \r\nQ 828 903 1448 1529 \r\nQ 2069 2156 2228 2338 \r\nQ 2531 2678 2651 2914 \r\nQ 2772 3150 2772 3378 \r\nQ 2772 3750 2511 3984 \r\nQ 2250 4219 1831 4219 \r\nQ 1534 4219 1204 4116 \r\nQ 875 4013 500 3803 \r\nL 500 4441 \r\nQ 881 4594 1212 4672 \r\nQ 1544 4750 1819 4750 \r\nQ 2544 4750 2975 4387 \r\nQ 3406 4025 3406 3419 \r\nQ 3406 3131 3298 2873 \r\nQ 3191 2616 2906 2266 \r\nQ 2828 2175 2409 1742 \r\nQ 1991 1309 1228 531 \r\nz\r\n\" id=\"DejaVuSans-32\" transform=\"scale(0.015625)\"/>\r\n       </defs>\r\n       <use xlink:href=\"#DejaVuSans-32\"/>\r\n       <use x=\"63.623047\" xlink:href=\"#DejaVuSans-30\"/>\r\n      </g>\r\n     </g>\r\n    </g>\r\n    <g id=\"xtick_6\">\r\n     <g id=\"line2d_6\">\r\n      <g>\r\n       <use style=\"stroke:#000000;stroke-width:0.8;\" x=\"224.950714\" xlink:href=\"#ma58cd9469a\" y=\"224.64\"/>\r\n      </g>\r\n     </g>\r\n     <g id=\"text_6\">\r\n      <!-- 25 -->\r\n      <g transform=\"translate(218.588214 239.238437)scale(0.1 -0.1)\">\r\n       <use xlink:href=\"#DejaVuSans-32\"/>\r\n       <use x=\"63.623047\" xlink:href=\"#DejaVuSans-35\"/>\r\n      </g>\r\n     </g>\r\n    </g>\r\n   </g>\r\n   <g id=\"matplotlib.axis_2\">\r\n    <g id=\"ytick_1\">\r\n     <g id=\"line2d_7\">\r\n      <defs>\r\n       <path d=\"M 0 0 \r\nL -3.5 0 \r\n\" id=\"m0a2f5739e1\" style=\"stroke:#000000;stroke-width:0.8;\"/>\r\n      </defs>\r\n      <g>\r\n       <use style=\"stroke:#000000;stroke-width:0.8;\" x=\"26.925\" xlink:href=\"#m0a2f5739e1\" y=\"11.082857\"/>\r\n      </g>\r\n     </g>\r\n     <g id=\"text_7\">\r\n      <!-- 0 -->\r\n      <g transform=\"translate(13.5625 14.882076)scale(0.1 -0.1)\">\r\n       <use xlink:href=\"#DejaVuSans-30\"/>\r\n      </g>\r\n     </g>\r\n    </g>\r\n    <g id=\"ytick_2\">\r\n     <g id=\"line2d_8\">\r\n      <g>\r\n       <use style=\"stroke:#000000;stroke-width:0.8;\" x=\"26.925\" xlink:href=\"#m0a2f5739e1\" y=\"49.911429\"/>\r\n      </g>\r\n     </g>\r\n     <g id=\"text_8\">\r\n      <!-- 5 -->\r\n      <g transform=\"translate(13.5625 53.710647)scale(0.1 -0.1)\">\r\n       <use xlink:href=\"#DejaVuSans-35\"/>\r\n      </g>\r\n     </g>\r\n    </g>\r\n    <g id=\"ytick_3\">\r\n     <g id=\"line2d_9\">\r\n      <g>\r\n       <use style=\"stroke:#000000;stroke-width:0.8;\" x=\"26.925\" xlink:href=\"#m0a2f5739e1\" y=\"88.74\"/>\r\n      </g>\r\n     </g>\r\n     <g id=\"text_9\">\r\n      <!-- 10 -->\r\n      <g transform=\"translate(7.2 92.539219)scale(0.1 -0.1)\">\r\n       <use xlink:href=\"#DejaVuSans-31\"/>\r\n       <use x=\"63.623047\" xlink:href=\"#DejaVuSans-30\"/>\r\n      </g>\r\n     </g>\r\n    </g>\r\n    <g id=\"ytick_4\">\r\n     <g id=\"line2d_10\">\r\n      <g>\r\n       <use style=\"stroke:#000000;stroke-width:0.8;\" x=\"26.925\" xlink:href=\"#m0a2f5739e1\" y=\"127.568571\"/>\r\n      </g>\r\n     </g>\r\n     <g id=\"text_10\">\r\n      <!-- 15 -->\r\n      <g transform=\"translate(7.2 131.36779)scale(0.1 -0.1)\">\r\n       <use xlink:href=\"#DejaVuSans-31\"/>\r\n       <use x=\"63.623047\" xlink:href=\"#DejaVuSans-35\"/>\r\n      </g>\r\n     </g>\r\n    </g>\r\n    <g id=\"ytick_5\">\r\n     <g id=\"line2d_11\">\r\n      <g>\r\n       <use style=\"stroke:#000000;stroke-width:0.8;\" x=\"26.925\" xlink:href=\"#m0a2f5739e1\" y=\"166.397143\"/>\r\n      </g>\r\n     </g>\r\n     <g id=\"text_11\">\r\n      <!-- 20 -->\r\n      <g transform=\"translate(7.2 170.196362)scale(0.1 -0.1)\">\r\n       <use xlink:href=\"#DejaVuSans-32\"/>\r\n       <use x=\"63.623047\" xlink:href=\"#DejaVuSans-30\"/>\r\n      </g>\r\n     </g>\r\n    </g>\r\n    <g id=\"ytick_6\">\r\n     <g id=\"line2d_12\">\r\n      <g>\r\n       <use style=\"stroke:#000000;stroke-width:0.8;\" x=\"26.925\" xlink:href=\"#m0a2f5739e1\" y=\"205.225714\"/>\r\n      </g>\r\n     </g>\r\n     <g id=\"text_12\">\r\n      <!-- 25 -->\r\n      <g transform=\"translate(7.2 209.024933)scale(0.1 -0.1)\">\r\n       <use xlink:href=\"#DejaVuSans-32\"/>\r\n       <use x=\"63.623047\" xlink:href=\"#DejaVuSans-35\"/>\r\n      </g>\r\n     </g>\r\n    </g>\r\n   </g>\r\n   <g id=\"patch_3\">\r\n    <path d=\"M 26.925 224.64 \r\nL 26.925 7.2 \r\n\" style=\"fill:none;stroke:#000000;stroke-linecap:square;stroke-linejoin:miter;stroke-width:0.8;\"/>\r\n   </g>\r\n   <g id=\"patch_4\">\r\n    <path d=\"M 244.365 224.64 \r\nL 244.365 7.2 \r\n\" style=\"fill:none;stroke:#000000;stroke-linecap:square;stroke-linejoin:miter;stroke-width:0.8;\"/>\r\n   </g>\r\n   <g id=\"patch_5\">\r\n    <path d=\"M 26.925 224.64 \r\nL 244.365 224.64 \r\n\" style=\"fill:none;stroke:#000000;stroke-linecap:square;stroke-linejoin:miter;stroke-width:0.8;\"/>\r\n   </g>\r\n   <g id=\"patch_6\">\r\n    <path d=\"M 26.925 7.2 \r\nL 244.365 7.2 \r\n\" style=\"fill:none;stroke:#000000;stroke-linecap:square;stroke-linejoin:miter;stroke-width:0.8;\"/>\r\n   </g>\r\n  </g>\r\n </g>\r\n <defs>\r\n  <clipPath id=\"p4b4594d1ff\">\r\n   <rect height=\"217.44\" width=\"217.44\" x=\"26.925\" y=\"7.2\"/>\r\n  </clipPath>\r\n </defs>\r\n</svg>\r\n",
      "image/png": "[encoded data removed]"
     },
     "metadata": {
      "needs_background": "light"
     }
    }
   ],
   "metadata": {}
  },
  {
   "cell_type": "code",
   "execution_count": 71,
   "source": [
    "from torch.utils.data import DataLoader\r\n",
    "loaders = {\r\n",
    "    'train' : torch.utils.data.DataLoader(train_data, \r\n",
    "                                          batch_size=100, \r\n",
    "                                          shuffle=True, \r\n",
    "                                          num_workers=1),\r\n",
    "    \r\n",
    "    'test'  : torch.utils.data.DataLoader(test_data, \r\n",
    "                                          batch_size=100, \r\n",
    "                                          shuffle=True, \r\n",
    "                                          num_workers=1),\r\n",
    "}\r\n",
    "loaders"
   ],
   "outputs": [
    {
     "output_type": "execute_result",
     "data": {
      "text/plain": [
       "{'train': <torch.utils.data.dataloader.DataLoader at 0x24f96405130>,\n",
       " 'test': <torch.utils.data.dataloader.DataLoader at 0x24f964054c0>}"
      ]
     },
     "metadata": {},
     "execution_count": 71
    }
   ],
   "metadata": {}
  },
  {
   "cell_type": "code",
   "execution_count": 72,
   "source": [
    "class CNN(nn.Module):\r\n",
    "    def __init__(self):\r\n",
    "        super(CNN, self).__init__()\r\n",
    "        self.conv1 = nn.Sequential(\r\n",
    "            nn.Conv2d(           \r\n",
    "                in_channels=1,  \r\n",
    "                out_channels=16, \r\n",
    "                kernel_size=5,   \r\n",
    "                stride=1,        \r\n",
    "                padding=2,       \r\n",
    "            ),\r\n",
    "            nn.ReLU(), \r\n",
    "            nn.MaxPool2d(kernel_size = 2),\r\n",
    "        )\r\n",
    "        \r\n",
    "        self.conv2 = nn.Sequential(\r\n",
    "            nn.Conv2d(16,32,5,1,2),  \r\n",
    "            nn.ReLU(), \r\n",
    "            nn.MaxPool2d(2)   \r\n",
    "        )\r\n",
    "        \r\n",
    "        self.out = nn.Linear(32*7*7, 10) \r\n",
    "        \r\n",
    "    def forward(self,x):\r\n",
    "       x = self.conv1(x)\r\n",
    "       x = self.conv2(x)\r\n",
    "       x = x.view(x.size(0), -1)\r\n",
    "       output = self.out(x)\r\n",
    "       return output"
   ],
   "outputs": [],
   "metadata": {}
  },
  {
   "cell_type": "code",
   "execution_count": 73,
   "source": [
    "cnn = CNN()\r\n",
    "print(cnn)"
   ],
   "outputs": [
    {
     "output_type": "stream",
     "name": "stdout",
     "text": [
      "CNN(\n",
      "  (conv1): Sequential(\n",
      "    (0): Conv2d(1, 16, kernel_size=(5, 5), stride=(1, 1), padding=(2, 2))\n",
      "    (1): ReLU()\n",
      "    (2): MaxPool2d(kernel_size=2, stride=2, padding=0, dilation=1, ceil_mode=False)\n",
      "  )\n",
      "  (conv2): Sequential(\n",
      "    (0): Conv2d(16, 32, kernel_size=(5, 5), stride=(1, 1), padding=(2, 2))\n",
      "    (1): ReLU()\n",
      "    (2): MaxPool2d(kernel_size=2, stride=2, padding=0, dilation=1, ceil_mode=False)\n",
      "  )\n",
      "  (out): Linear(in_features=1568, out_features=10, bias=True)\n",
      ")\n"
     ]
    }
   ],
   "metadata": {}
  },
  {
   "cell_type": "code",
   "execution_count": 74,
   "source": [
    "optimizer = torch.optim.Adam(cnn.parameters(), lr=0.01)\r\n",
    "loss_function = nn.CrossEntropyLoss()"
   ],
   "outputs": [],
   "metadata": {}
  },
  {
   "cell_type": "code",
   "execution_count": 81,
   "source": [
    "num_epochs = 15\r\n",
    "total_step = len(loaders['train'])\r\n",
    "for epoch in range(num_epochs):\r\n",
    "    for step, (x, y) in enumerate(loaders['train']):\r\n",
    "        b_x = Variable(x, requires_grad=False)\r\n",
    "        b_y = Variable(y, requires_grad=False)\r\n",
    "\r\n",
    "        output = cnn(b_x)          \r\n",
    "        loss = loss_function(output, b_y)\r\n",
    "        optimizer.zero_grad()      \r\n",
    "        loss.backward()            \r\n",
    "        optimizer.step()       \r\n",
    "        if (step+1) % 100 == 0:\r\n",
    "            print ('Epoch [{}/{}], Step [{}/{}], Loss: {:.4f}'.format(epoch + 1, num_epochs, step + 1, total_step, loss.item()))"
   ],
   "outputs": [
    {
     "output_type": "stream",
     "name": "stdout",
     "text": [
      "Epoch [1/15], Step [100/600], Loss: 0.1015\n",
      "Epoch [1/15], Step [200/600], Loss: 0.1232\n",
      "Epoch [1/15], Step [300/600], Loss: 0.0297\n",
      "Epoch [1/15], Step [400/600], Loss: 0.1147\n",
      "Epoch [1/15], Step [500/600], Loss: 0.0632\n",
      "Epoch [1/15], Step [600/600], Loss: 0.1043\n",
      "Epoch [2/15], Step [100/600], Loss: 0.0267\n",
      "Epoch [2/15], Step [200/600], Loss: 0.0081\n",
      "Epoch [2/15], Step [300/600], Loss: 0.0645\n",
      "Epoch [2/15], Step [400/600], Loss: 0.0173\n",
      "Epoch [2/15], Step [500/600], Loss: 0.0247\n",
      "Epoch [2/15], Step [600/600], Loss: 0.0184\n",
      "Epoch [3/15], Step [100/600], Loss: 0.0433\n",
      "Epoch [3/15], Step [200/600], Loss: 0.0379\n",
      "Epoch [3/15], Step [300/600], Loss: 0.0731\n",
      "Epoch [3/15], Step [400/600], Loss: 0.0245\n",
      "Epoch [3/15], Step [500/600], Loss: 0.1027\n",
      "Epoch [3/15], Step [600/600], Loss: 0.0154\n",
      "Epoch [4/15], Step [100/600], Loss: 0.0093\n",
      "Epoch [4/15], Step [200/600], Loss: 0.0548\n",
      "Epoch [4/15], Step [300/600], Loss: 0.0101\n",
      "Epoch [4/15], Step [400/600], Loss: 0.0096\n",
      "Epoch [4/15], Step [500/600], Loss: 0.0880\n",
      "Epoch [4/15], Step [600/600], Loss: 0.0352\n",
      "Epoch [5/15], Step [100/600], Loss: 0.1598\n",
      "Epoch [5/15], Step [200/600], Loss: 0.0167\n",
      "Epoch [5/15], Step [300/600], Loss: 0.0706\n",
      "Epoch [5/15], Step [400/600], Loss: 0.0038\n",
      "Epoch [5/15], Step [500/600], Loss: 0.0433\n",
      "Epoch [5/15], Step [600/600], Loss: 0.0113\n",
      "Epoch [6/15], Step [100/600], Loss: 0.0441\n",
      "Epoch [6/15], Step [200/600], Loss: 0.0723\n",
      "Epoch [6/15], Step [300/600], Loss: 0.0303\n",
      "Epoch [6/15], Step [400/600], Loss: 0.0104\n",
      "Epoch [6/15], Step [500/600], Loss: 0.0174\n",
      "Epoch [6/15], Step [600/600], Loss: 0.1146\n",
      "Epoch [7/15], Step [100/600], Loss: 0.0086\n",
      "Epoch [7/15], Step [200/600], Loss: 0.0482\n",
      "Epoch [7/15], Step [300/600], Loss: 0.0724\n",
      "Epoch [7/15], Step [400/600], Loss: 0.0392\n",
      "Epoch [7/15], Step [500/600], Loss: 0.0199\n",
      "Epoch [7/15], Step [600/600], Loss: 0.0925\n",
      "Epoch [8/15], Step [100/600], Loss: 0.0192\n",
      "Epoch [8/15], Step [200/600], Loss: 0.0005\n",
      "Epoch [8/15], Step [300/600], Loss: 0.0322\n",
      "Epoch [8/15], Step [400/600], Loss: 0.0007\n",
      "Epoch [8/15], Step [500/600], Loss: 0.0052\n",
      "Epoch [8/15], Step [600/600], Loss: 0.0030\n",
      "Epoch [9/15], Step [100/600], Loss: 0.0282\n",
      "Epoch [9/15], Step [200/600], Loss: 0.0023\n",
      "Epoch [9/15], Step [300/600], Loss: 0.0128\n",
      "Epoch [9/15], Step [400/600], Loss: 0.0240\n",
      "Epoch [9/15], Step [500/600], Loss: 0.0106\n",
      "Epoch [9/15], Step [600/600], Loss: 0.0866\n",
      "Epoch [10/15], Step [100/600], Loss: 0.0464\n",
      "Epoch [10/15], Step [200/600], Loss: 0.0282\n",
      "Epoch [10/15], Step [300/600], Loss: 0.0861\n",
      "Epoch [10/15], Step [400/600], Loss: 0.1392\n",
      "Epoch [10/15], Step [500/600], Loss: 0.0004\n",
      "Epoch [10/15], Step [600/600], Loss: 0.0003\n",
      "Epoch [11/15], Step [100/600], Loss: 0.0084\n",
      "Epoch [11/15], Step [200/600], Loss: 0.1229\n",
      "Epoch [11/15], Step [300/600], Loss: 0.0195\n",
      "Epoch [11/15], Step [400/600], Loss: 0.0226\n",
      "Epoch [11/15], Step [500/600], Loss: 0.0021\n",
      "Epoch [11/15], Step [600/600], Loss: 0.2158\n",
      "Epoch [12/15], Step [100/600], Loss: 0.0574\n",
      "Epoch [12/15], Step [200/600], Loss: 0.0076\n",
      "Epoch [12/15], Step [300/600], Loss: 0.0152\n",
      "Epoch [12/15], Step [400/600], Loss: 0.0553\n",
      "Epoch [12/15], Step [500/600], Loss: 0.0974\n",
      "Epoch [12/15], Step [600/600], Loss: 0.0148\n",
      "Epoch [13/15], Step [100/600], Loss: 0.0329\n",
      "Epoch [13/15], Step [200/600], Loss: 0.0011\n",
      "Epoch [13/15], Step [300/600], Loss: 0.0005\n",
      "Epoch [13/15], Step [400/600], Loss: 0.0631\n",
      "Epoch [13/15], Step [500/600], Loss: 0.0001\n",
      "Epoch [13/15], Step [600/600], Loss: 0.0555\n",
      "Epoch [14/15], Step [100/600], Loss: 0.1122\n",
      "Epoch [14/15], Step [200/600], Loss: 0.0054\n",
      "Epoch [14/15], Step [300/600], Loss: 0.0369\n",
      "Epoch [14/15], Step [400/600], Loss: 0.0658\n",
      "Epoch [14/15], Step [500/600], Loss: 0.0430\n",
      "Epoch [14/15], Step [600/600], Loss: 0.0001\n",
      "Epoch [15/15], Step [100/600], Loss: 0.0279\n",
      "Epoch [15/15], Step [200/600], Loss: 0.0139\n",
      "Epoch [15/15], Step [300/600], Loss: 0.0136\n",
      "Epoch [15/15], Step [400/600], Loss: 0.0774\n",
      "Epoch [15/15], Step [500/600], Loss: 0.2408\n",
      "Epoch [15/15], Step [600/600], Loss: 0.0721\n"
     ]
    }
   ],
   "metadata": {}
  },
  {
   "cell_type": "code",
   "execution_count": 82,
   "source": [
    "def test():\r\n",
    "    # Test the model\r\n",
    "    cnn.eval()\r\n",
    "    with torch.no_grad():\r\n",
    "        correct = 0\r\n",
    "        total = 0\r\n",
    "        for images, labels in loaders['test']:\r\n",
    "            test_output = cnn(images)\r\n",
    "            pred_y = torch.max(test_output, 1)[1].data.squeeze()\r\n",
    "            accuracy = (pred_y == labels).sum().item() / float(labels.size(0))\r\n",
    "\r\n",
    "            \r\n",
    "    print('Test Accuracy of the model on the test images: %.2f' %accuracy)\r\n",
    "\r\n",
    "test()"
   ],
   "outputs": [
    {
     "output_type": "stream",
     "name": "stdout",
     "text": [
      "Test Accuracy of the model on the test images: 0.98\n"
     ]
    }
   ],
   "metadata": {}
  }
 ],
 "metadata": {
  "orig_nbformat": 4,
  "language_info": {
   "name": "python",
   "version": "3.9.6",
   "mimetype": "text/x-python",
   "codemirror_mode": {
    "name": "ipython",
    "version": 3
   },
   "pygments_lexer": "ipython3",
   "nbconvert_exporter": "python",
   "file_extension": ".py"
  },
  "kernelspec": {
   "name": "python3",
   "display_name": "Python 3.9.6 64-bit"
  },
  "interpreter": {
   "hash": "4617e2f938c58cce04089e6cfece455e3dab2db4f3f92c1b0f9792c6c6d95434"
  }
 },
 "nbformat": 4,
 "nbformat_minor": 2
}